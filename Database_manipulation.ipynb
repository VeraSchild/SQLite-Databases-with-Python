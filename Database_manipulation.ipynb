{
 "cells": [
  {
   "cell_type": "code",
   "execution_count": 453,
   "metadata": {},
   "outputs": [],
   "source": [
    "import sqlite3"
   ]
  },
  {
   "cell_type": "markdown",
   "metadata": {},
   "source": [
    "## 1 Connecting to database\n"
   ]
  },
  {
   "cell_type": "code",
   "execution_count": 454,
   "metadata": {},
   "outputs": [],
   "source": [
    "# Setup a connection to temporaty database that will not be saved in directory\n",
    "conn = sqlite3.connect(':memory:')"
   ]
  },
  {
   "cell_type": "code",
   "execution_count": 455,
   "metadata": {},
   "outputs": [],
   "source": [
    "# Setup a connection to a database, and create it if it does not exist\n",
    "conn = sqlite3.connect('customers_info.db')"
   ]
  },
  {
   "cell_type": "markdown",
   "metadata": {},
   "source": [
    "## 2 Creating a table\n",
    "The power of the database is not the database itself but the table. The table holds the data. Think of a table like an excel sheet, with rows and collums."
   ]
  },
  {
   "cell_type": "code",
   "execution_count": 456,
   "metadata": {},
   "outputs": [],
   "source": [
    "# Create cursor\n",
    "c = conn.cursor()"
   ]
  },
  {
   "cell_type": "markdown",
   "metadata": {},
   "source": [
    "A cursor tells the database what you want to do with it. When you want to change anything about the data, you will use the cursor to do it."
   ]
  },
  {
   "cell_type": "code",
   "execution_count": 457,
   "metadata": {},
   "outputs": [
    {
     "data": {
      "text/plain": [
       "<sqlite3.Cursor at 0x10b9dbea0>"
      ]
     },
     "execution_count": 457,
     "metadata": {},
     "output_type": "execute_result"
    }
   ],
   "source": [
    "# Create a table\n",
    "c.execute(\"\"\"CREATE TABLE customers (first_name DATATYPE,\n",
    "                                     last_name DATATYPE,\n",
    "                                     email DATATYPE)\n",
    "          \"\"\")"
   ]
  },
  {
   "cell_type": "markdown",
   "metadata": {},
   "source": [
    "Datatype is a type of data like strings, booleans, lists, arrays, dictonary.\n",
    "\n",
    "SQLite has only 5 datatypes:\n",
    "- `null`\n",
    "- `integer`\n",
    "- `real`\n",
    "- `text`\n",
    "- `blob` (something is stored exacly as it is, used for example figures, sound. It is just stored as a blob)"
   ]
  },
  {
   "cell_type": "code",
   "execution_count": 458,
   "metadata": {},
   "outputs": [
    {
     "data": {
      "text/plain": [
       "<sqlite3.Cursor at 0x10b9dbea0>"
      ]
     },
     "execution_count": 458,
     "metadata": {},
     "output_type": "execute_result"
    }
   ],
   "source": [
    "c.execute(\"DROP TABLE customers\")\n",
    "c.execute(\"\"\"CREATE TABLE customers (first_name TEXT,\n",
    "                                     last_name TEXT,\n",
    "                                     email TEXT)\n",
    "          \"\"\")"
   ]
  },
  {
   "cell_type": "markdown",
   "metadata": {},
   "source": [
    "We have to comit this to the database, by comminting our connection, for the above to be executed."
   ]
  },
  {
   "cell_type": "code",
   "execution_count": 459,
   "metadata": {},
   "outputs": [],
   "source": [
    "# Commit our command above\n",
    "conn.commit()"
   ]
  },
  {
   "cell_type": "markdown",
   "metadata": {},
   "source": [
    "Now, lets put some data in to our table."
   ]
  },
  {
   "cell_type": "code",
   "execution_count": 460,
   "metadata": {},
   "outputs": [],
   "source": [
    "# Put a first name, last name and email in to our table\n",
    "c.execute(\"INSERT INTO customers VALUES ('John', 'Elder', 'jon@codemy.com')\")\n",
    "\n",
    "# Again commit it to execute it\n",
    "conn.commit()"
   ]
  },
  {
   "cell_type": "code",
   "execution_count": 461,
   "metadata": {},
   "outputs": [],
   "source": [
    "c.execute(\"INSERT INTO customers VALUES ('Tim', 'Smith', 'tim@codemy.com')\")\n",
    "c.execute(\"INSERT INTO customers VALUES ('Mary', 'Brown', 'mary@codemy.com')\")\n",
    "conn.commit()"
   ]
  },
  {
   "cell_type": "markdown",
   "metadata": {},
   "source": [
    "Now, we don't have to insert every bit of data one-by-one. Let's speed this up."
   ]
  },
  {
   "cell_type": "code",
   "execution_count": 462,
   "metadata": {},
   "outputs": [],
   "source": [
    "many_customers = [('Wes', 'Brown', 'wes@brown.com'), \n",
    "                  ('Steph', 'Kuewa', 'steph@keuwa.com'), \n",
    "                  ('Dan', 'Pas', 'dan@pas.com'),\n",
    "                  ('Lauren', 'Wilson', 'Lauren@wilson.com'),\n",
    "                  ('Hailey', 'Jones', 'hailey@jones.com'),\n",
    "                  ('Taylor', 'Miler', 'taylos@miler.com')]\n",
    "\n",
    "# execute many data enteries into our table customers, with (?,?,?) as a placeholder\n",
    "c.executemany(\"INSERT INTO customers VALUES (?,?,?)\", many_customers)\n",
    "\n",
    "conn.commit()"
   ]
  },
  {
   "cell_type": "markdown",
   "metadata": {},
   "source": [
    "Let's have a look at what we put in to our table."
   ]
  },
  {
   "cell_type": "code",
   "execution_count": 463,
   "metadata": {},
   "outputs": [
    {
     "data": {
      "text/plain": [
       "('John', 'Elder', 'jon@codemy.com')"
      ]
     },
     "execution_count": 463,
     "metadata": {},
     "output_type": "execute_result"
    }
   ],
   "source": [
    "# First select the data from our table\n",
    "c.execute(\"SELECT * FROM customers\")\n",
    "\n",
    "c.fetchone()"
   ]
  },
  {
   "cell_type": "code",
   "execution_count": 464,
   "metadata": {},
   "outputs": [
    {
     "data": {
      "text/plain": [
       "'tim@codemy.com'"
      ]
     },
     "execution_count": 464,
     "metadata": {},
     "output_type": "execute_result"
    }
   ],
   "source": [
    "# Find just the email from just one row\n",
    "c.fetchone()[2]"
   ]
  },
  {
   "cell_type": "code",
   "execution_count": 465,
   "metadata": {},
   "outputs": [
    {
     "data": {
      "text/plain": [
       "[('Mary', 'Brown', 'mary@codemy.com'),\n",
       " ('Wes', 'Brown', 'wes@brown.com'),\n",
       " ('Steph', 'Kuewa', 'steph@keuwa.com')]"
      ]
     },
     "execution_count": 465,
     "metadata": {},
     "output_type": "execute_result"
    }
   ],
   "source": [
    "c.fetchmany(3)"
   ]
  },
  {
   "cell_type": "code",
   "execution_count": 466,
   "metadata": {},
   "outputs": [
    {
     "data": {
      "text/plain": [
       "[('John', 'Elder', 'jon@codemy.com'),\n",
       " ('Tim', 'Smith', 'tim@codemy.com'),\n",
       " ('Mary', 'Brown', 'mary@codemy.com'),\n",
       " ('Wes', 'Brown', 'wes@brown.com'),\n",
       " ('Steph', 'Kuewa', 'steph@keuwa.com'),\n",
       " ('Dan', 'Pas', 'dan@pas.com'),\n",
       " ('Lauren', 'Wilson', 'Lauren@wilson.com'),\n",
       " ('Hailey', 'Jones', 'hailey@jones.com'),\n",
       " ('Taylor', 'Miler', 'taylos@miler.com')]"
      ]
     },
     "execution_count": 466,
     "metadata": {},
     "output_type": "execute_result"
    }
   ],
   "source": [
    "c.execute(\"SELECT * FROM customers\")\n",
    "\n",
    "c.fetchall()"
   ]
  },
  {
   "cell_type": "markdown",
   "metadata": {},
   "source": [
    "This is just a list with tuples. So we can do the following:"
   ]
  },
  {
   "cell_type": "code",
   "execution_count": 467,
   "metadata": {},
   "outputs": [
    {
     "data": {
      "text/plain": [
       "[('John', 'Elder', 'jon@codemy.com'),\n",
       " ('Tim', 'Smith', 'tim@codemy.com'),\n",
       " ('Mary', 'Brown', 'mary@codemy.com'),\n",
       " ('Wes', 'Brown', 'wes@brown.com'),\n",
       " ('Steph', 'Kuewa', 'steph@keuwa.com')]"
      ]
     },
     "execution_count": 467,
     "metadata": {},
     "output_type": "execute_result"
    }
   ],
   "source": [
    "c.execute(\"SELECT * FROM customers\")\n",
    "\n",
    "c.fetchall()[:5]"
   ]
  },
  {
   "cell_type": "markdown",
   "metadata": {},
   "source": [
    "To get only first names, last names or email we can loop through the data"
   ]
  },
  {
   "cell_type": "code",
   "execution_count": 468,
   "metadata": {},
   "outputs": [
    {
     "name": "stdout",
     "output_type": "stream",
     "text": [
      "('John', 'Elder', 'jon@codemy.com')\n",
      "('Tim', 'Smith', 'tim@codemy.com')\n",
      "('Mary', 'Brown', 'mary@codemy.com')\n",
      "('Wes', 'Brown', 'wes@brown.com')\n",
      "('Steph', 'Kuewa', 'steph@keuwa.com')\n",
      "('Dan', 'Pas', 'dan@pas.com')\n",
      "('Lauren', 'Wilson', 'Lauren@wilson.com')\n",
      "('Hailey', 'Jones', 'hailey@jones.com')\n",
      "('Taylor', 'Miler', 'taylos@miler.com')\n"
     ]
    }
   ],
   "source": [
    "c.execute(\"SELECT * FROM customers\")\n",
    "\n",
    "for entry in c.fetchall():\n",
    "    print(entry)"
   ]
  },
  {
   "cell_type": "code",
   "execution_count": 469,
   "metadata": {},
   "outputs": [
    {
     "name": "stdout",
     "output_type": "stream",
     "text": [
      "John\n",
      "Tim\n",
      "Mary\n",
      "Wes\n",
      "Steph\n",
      "Dan\n",
      "Lauren\n",
      "Hailey\n",
      "Taylor\n"
     ]
    }
   ],
   "source": [
    "c.execute(\"SELECT * FROM customers\")\n",
    "\n",
    "for entry in c.fetchall():\n",
    "    print(entry[0])"
   ]
  },
  {
   "cell_type": "markdown",
   "metadata": {},
   "source": [
    "We can also use this to make the retrieved data more readable."
   ]
  },
  {
   "cell_type": "code",
   "execution_count": 470,
   "metadata": {},
   "outputs": [
    {
     "name": "stdout",
     "output_type": "stream",
     "text": [
      "John\tElder\tjon@codemy.com\n",
      "Tim\tSmith\ttim@codemy.com\n",
      "Mary\tBrown\tmary@codemy.com\n",
      "Wes\tBrown\twes@brown.com\n",
      "Steph\tKuewa\tsteph@keuwa.com\n",
      "Dan\tPas\tdan@pas.com\n",
      "Lauren\tWilson\tLauren@wilson.com\n",
      "Hailey\tJones\thailey@jones.com\n",
      "Taylor\tMiler\ttaylos@miler.com\n"
     ]
    }
   ],
   "source": [
    "c.execute(\"SELECT * FROM customers\")\n",
    "\n",
    "for entry in c.fetchall():\n",
    "    print(entry[0] + \"\\t\" + entry[1] + \"\\t\" + entry[2])"
   ]
  },
  {
   "cell_type": "markdown",
   "metadata": {},
   "source": [
    "### Primary Keys\n",
    "\n",
    "A primary key is a unique ID number that each record of your database has.\n",
    "\n",
    "One example of this is the rowid. SQLite creates this for you."
   ]
  },
  {
   "cell_type": "code",
   "execution_count": 471,
   "metadata": {},
   "outputs": [
    {
     "name": "stdout",
     "output_type": "stream",
     "text": [
      "(1, 'John', 'Elder', 'jon@codemy.com')\n",
      "(2, 'Tim', 'Smith', 'tim@codemy.com')\n",
      "(3, 'Mary', 'Brown', 'mary@codemy.com')\n",
      "(4, 'Wes', 'Brown', 'wes@brown.com')\n",
      "(5, 'Steph', 'Kuewa', 'steph@keuwa.com')\n",
      "(6, 'Dan', 'Pas', 'dan@pas.com')\n",
      "(7, 'Lauren', 'Wilson', 'Lauren@wilson.com')\n",
      "(8, 'Hailey', 'Jones', 'hailey@jones.com')\n",
      "(9, 'Taylor', 'Miler', 'taylos@miler.com')\n"
     ]
    }
   ],
   "source": [
    "c.execute(\"SELECT rowid, * FROM customers\")\n",
    "\n",
    "for entry in c.fetchall():\n",
    "    print(entry)"
   ]
  },
  {
   "cell_type": "markdown",
   "metadata": {},
   "source": [
    "## 3 Working with the database and records"
   ]
  },
  {
   "cell_type": "markdown",
   "metadata": {},
   "source": [
    "### Pulling out specific things from the database\n",
    "\n"
   ]
  },
  {
   "cell_type": "code",
   "execution_count": 472,
   "metadata": {},
   "outputs": [
    {
     "name": "stdout",
     "output_type": "stream",
     "text": [
      "('John', 'Elder', 'jon@codemy.com')\n"
     ]
    }
   ],
   "source": [
    "# Seclect all customers with last name Elder\n",
    "c.execute(\"SELECT * FROM customers WHERE last_name = 'Elder'\")\n",
    "\n",
    "for entry in c.fetchall():\n",
    "    print(entry)"
   ]
  },
  {
   "cell_type": "code",
   "execution_count": 473,
   "metadata": {},
   "outputs": [
    {
     "name": "stdout",
     "output_type": "stream",
     "text": [
      "('Mary', 'Brown', 'mary@codemy.com')\n",
      "('Wes', 'Brown', 'wes@brown.com')\n"
     ]
    }
   ],
   "source": [
    "# Seclect all customers with last name starding with Br\n",
    "c.execute(\"SELECT * FROM customers WHERE last_name LIKE 'Br%'\")\n",
    "\n",
    "for entry in c.fetchall():\n",
    "    print(entry)"
   ]
  },
  {
   "cell_type": "code",
   "execution_count": 474,
   "metadata": {},
   "outputs": [
    {
     "name": "stdout",
     "output_type": "stream",
     "text": [
      "('John', 'Elder', 'jon@codemy.com')\n",
      "('Tim', 'Smith', 'tim@codemy.com')\n",
      "('Mary', 'Brown', 'mary@codemy.com')\n"
     ]
    }
   ],
   "source": [
    "# Seclect all customers with email ending on codemy.com\n",
    "c.execute(\"SELECT * FROM customers WHERE email LIKE '%codemy.com'\")\n",
    "\n",
    "for entry in c.fetchall():\n",
    "    print(entry)"
   ]
  },
  {
   "cell_type": "markdown",
   "metadata": {},
   "source": [
    "### Updating Records\n",
    "Using `WHERE` and the `rowid`."
   ]
  },
  {
   "cell_type": "code",
   "execution_count": 475,
   "metadata": {},
   "outputs": [
    {
     "name": "stdout",
     "output_type": "stream",
     "text": [
      "(1, 'Bob', 'Elder', 'jon@codemy.com')\n",
      "(2, 'Tim', 'Smith', 'tim@codemy.com')\n",
      "(3, 'Mary', 'Brown', 'mary@codemy.com')\n",
      "(4, 'Wes', 'Brown', 'wes@brown.com')\n",
      "(5, 'Steph', 'Kuewa', 'steph@keuwa.com')\n",
      "(6, 'Dan', 'Pas', 'dan@pas.com')\n",
      "(7, 'Lauren', 'Wilson', 'Lauren@wilson.com')\n",
      "(8, 'Hailey', 'Jones', 'hailey@jones.com')\n",
      "(9, 'Taylor', 'Miler', 'taylos@miler.com')\n"
     ]
    }
   ],
   "source": [
    "# Changing the John to Bob using his last name\n",
    "c.execute(\"UPDATE customers SET first_name = 'Bob' WHERE last_name = 'Elder'\")\n",
    "\n",
    "conn.commit()\n",
    "\n",
    "c.execute(\"SELECT rowid, * FROM customers\")\n",
    "\n",
    "for entry in c.fetchall():\n",
    "    print(entry)"
   ]
  },
  {
   "cell_type": "code",
   "execution_count": 476,
   "metadata": {},
   "outputs": [
    {
     "name": "stdout",
     "output_type": "stream",
     "text": [
      "(1, 'John', 'Elder', 'jon@codemy.com')\n",
      "(2, 'Tim', 'Smith', 'tim@codemy.com')\n",
      "(3, 'Mary', 'Brown', 'mary@codemy.com')\n",
      "(4, 'Wes', 'Brown', 'wes@brown.com')\n",
      "(5, 'Steph', 'Kuewa', 'steph@keuwa.com')\n",
      "(6, 'Dan', 'Pas', 'dan@pas.com')\n",
      "(7, 'Lauren', 'Wilson', 'Lauren@wilson.com')\n",
      "(8, 'Hailey', 'Jones', 'hailey@jones.com')\n",
      "(9, 'Taylor', 'Miler', 'taylos@miler.com')\n"
     ]
    }
   ],
   "source": [
    "# Changing the John to Bob using the rowid\n",
    "c.execute(\"UPDATE customers SET first_name = 'John' WHERE rowid = 1\")\n",
    "\n",
    "conn.commit()\n",
    "\n",
    "c.execute(\"SELECT rowid, * FROM customers\")\n",
    "\n",
    "for entry in c.fetchall():\n",
    "    print(entry)"
   ]
  },
  {
   "cell_type": "code",
   "execution_count": 477,
   "metadata": {},
   "outputs": [
    {
     "name": "stdout",
     "output_type": "stream",
     "text": [
      "(1, 'John', 'Elder', 'jon@codemy.com')\n",
      "(2, 'Tim', 'Smith', 'tim@codemy.com')\n",
      "(3, 'Marty', 'Brown', 'mary@codemy.com')\n",
      "(4, 'Marty', 'Brown', 'wes@brown.com')\n",
      "(5, 'Steph', 'Kuewa', 'steph@keuwa.com')\n",
      "(6, 'Dan', 'Pas', 'dan@pas.com')\n",
      "(7, 'Lauren', 'Wilson', 'Lauren@wilson.com')\n",
      "(8, 'Hailey', 'Jones', 'hailey@jones.com')\n",
      "(9, 'Taylor', 'Miler', 'taylos@miler.com')\n"
     ]
    }
   ],
   "source": [
    "# Changing the name of both Browns to Marty\n",
    "c.execute(\"UPDATE customers SET first_name = 'Marty' WHERE last_name = 'Brown'\")\n",
    "\n",
    "conn.commit()\n",
    "\n",
    "c.execute(\"SELECT rowid, * FROM customers\")\n",
    "\n",
    "for entry in c.fetchall():\n",
    "    print(entry)"
   ]
  },
  {
   "cell_type": "code",
   "execution_count": 478,
   "metadata": {},
   "outputs": [
    {
     "name": "stdout",
     "output_type": "stream",
     "text": [
      "(1, 'John', 'Elder', 'jon@codemy.com')\n",
      "(2, 'Tim', 'Smith', 'tim@codemy.com')\n",
      "(3, 'Mary', 'Brown', 'mary@codemy.com')\n",
      "(4, 'Wes', 'Brown', 'wes@brown.com')\n",
      "(5, 'Steph', 'Kuewa', 'steph@keuwa.com')\n",
      "(6, 'Dan', 'Pas', 'dan@pas.com')\n",
      "(7, 'Lauren', 'Wilson', 'Lauren@wilson.com')\n",
      "(8, 'Hailey', 'Jones', 'hailey@jones.com')\n",
      "(9, 'Taylor', 'Miler', 'taylos@miler.com')\n"
     ]
    }
   ],
   "source": [
    "# Changing the first names for both Browns back\n",
    "c.execute(\"UPDATE customers SET first_name = 'Mary' WHERE rowid = 3\")\n",
    "c.execute(\"UPDATE customers SET first_name = 'Wes' WHERE rowid = 4\")\n",
    "\n",
    "conn.commit()\n",
    "\n",
    "c.execute(\"SELECT rowid, * FROM customers\")\n",
    "\n",
    "for entry in c.fetchall():\n",
    "    print(entry)"
   ]
  },
  {
   "cell_type": "markdown",
   "metadata": {},
   "source": [
    "### Deleting a record"
   ]
  },
  {
   "cell_type": "code",
   "execution_count": 479,
   "metadata": {},
   "outputs": [
    {
     "name": "stdout",
     "output_type": "stream",
     "text": [
      "(1, 'John', 'Elder', 'jon@codemy.com')\n",
      "(2, 'Tim', 'Smith', 'tim@codemy.com')\n",
      "(3, 'Mary', 'Brown', 'mary@codemy.com')\n",
      "(4, 'Wes', 'Brown', 'wes@brown.com')\n",
      "(5, 'Steph', 'Kuewa', 'steph@keuwa.com')\n",
      "(7, 'Lauren', 'Wilson', 'Lauren@wilson.com')\n",
      "(8, 'Hailey', 'Jones', 'hailey@jones.com')\n",
      "(9, 'Taylor', 'Miler', 'taylos@miler.com')\n"
     ]
    }
   ],
   "source": [
    "# Delete record with rowid 6, Dan Pas\n",
    "c.execute(\"DELETE from customers WHERE rowid = 6\")\n",
    "\n",
    "conn.commit()\n",
    "\n",
    "c.execute(\"SELECT rowid, * FROM customers\")\n",
    "\n",
    "for entry in c.fetchall():\n",
    "    print(entry)"
   ]
  },
  {
   "cell_type": "markdown",
   "metadata": {},
   "source": [
    "### Ordering Results \n",
    "\n",
    "Results are by default ordered by the rowid (ascending)"
   ]
  },
  {
   "cell_type": "code",
   "execution_count": 480,
   "metadata": {},
   "outputs": [
    {
     "name": "stdout",
     "output_type": "stream",
     "text": [
      "(9, 'Taylor', 'Miler', 'taylos@miler.com')\n",
      "(8, 'Hailey', 'Jones', 'hailey@jones.com')\n",
      "(7, 'Lauren', 'Wilson', 'Lauren@wilson.com')\n",
      "(5, 'Steph', 'Kuewa', 'steph@keuwa.com')\n",
      "(4, 'Wes', 'Brown', 'wes@brown.com')\n",
      "(3, 'Mary', 'Brown', 'mary@codemy.com')\n",
      "(2, 'Tim', 'Smith', 'tim@codemy.com')\n",
      "(1, 'John', 'Elder', 'jon@codemy.com')\n"
     ]
    }
   ],
   "source": [
    "# Order customers by rowid, descending\n",
    "c.execute(\"SELECT rowid, * FROM customers ORDER BY rowid DESC\")\n",
    "\n",
    "for entry in c.fetchall():\n",
    "    print(entry)"
   ]
  },
  {
   "cell_type": "code",
   "execution_count": 481,
   "metadata": {},
   "outputs": [
    {
     "name": "stdout",
     "output_type": "stream",
     "text": [
      "(3, 'Mary', 'Brown', 'mary@codemy.com')\n",
      "(4, 'Wes', 'Brown', 'wes@brown.com')\n",
      "(1, 'John', 'Elder', 'jon@codemy.com')\n",
      "(8, 'Hailey', 'Jones', 'hailey@jones.com')\n",
      "(5, 'Steph', 'Kuewa', 'steph@keuwa.com')\n",
      "(9, 'Taylor', 'Miler', 'taylos@miler.com')\n",
      "(2, 'Tim', 'Smith', 'tim@codemy.com')\n",
      "(7, 'Lauren', 'Wilson', 'Lauren@wilson.com')\n"
     ]
    }
   ],
   "source": [
    "# Order customers by last_name alphabeticly\n",
    "c.execute(\"SELECT rowid, * FROM customers ORDER BY last_name\")\n",
    "\n",
    "for entry in c.fetchall():\n",
    "    print(entry)"
   ]
  },
  {
   "cell_type": "markdown",
   "metadata": {},
   "source": [
    "### Using `and` & `or`"
   ]
  },
  {
   "cell_type": "code",
   "execution_count": 482,
   "metadata": {},
   "outputs": [
    {
     "name": "stdout",
     "output_type": "stream",
     "text": [
      "('Mary', 'Brown', 'mary@codemy.com')\n"
     ]
    }
   ],
   "source": [
    "# Seclect all customers with last name starding with Br with rowid 3\n",
    "c.execute(\"SELECT * FROM customers WHERE last_name LIKE 'Br%' AND rowid = 3\")\n",
    "\n",
    "for entry in c.fetchall():\n",
    "    print(entry)"
   ]
  },
  {
   "cell_type": "markdown",
   "metadata": {},
   "source": [
    "### Limiting results"
   ]
  },
  {
   "cell_type": "code",
   "execution_count": 483,
   "metadata": {},
   "outputs": [
    {
     "name": "stdout",
     "output_type": "stream",
     "text": [
      "(1, 'John', 'Elder', 'jon@codemy.com')\n",
      "(2, 'Tim', 'Smith', 'tim@codemy.com')\n"
     ]
    }
   ],
   "source": [
    "# Select only the first 2 records\n",
    "c.execute(\"SELECT rowid, * FROM customers LIMIT 2\")\n",
    "\n",
    "for entry in c.fetchall():\n",
    "    print(entry)"
   ]
  },
  {
   "cell_type": "markdown",
   "metadata": {},
   "source": [
    "### Deleting a table"
   ]
  },
  {
   "cell_type": "code",
   "execution_count": 484,
   "metadata": {},
   "outputs": [
    {
     "ename": "OperationalError",
     "evalue": "no such table: customers",
     "output_type": "error",
     "traceback": [
      "\u001b[0;31m---------------------------------------------------------------------------\u001b[0m",
      "\u001b[0;31mOperationalError\u001b[0m                          Traceback (most recent call last)",
      "\u001b[0;32m<ipython-input-484-2428bcb7ec2f>\u001b[0m in \u001b[0;36m<module>\u001b[0;34m\u001b[0m\n\u001b[1;32m      2\u001b[0m \u001b[0mc\u001b[0m\u001b[0;34m.\u001b[0m\u001b[0mexecute\u001b[0m\u001b[0;34m(\u001b[0m\u001b[0;34m\"DROP TABLE customers\"\u001b[0m\u001b[0;34m)\u001b[0m\u001b[0;34m\u001b[0m\u001b[0;34m\u001b[0m\u001b[0m\n\u001b[1;32m      3\u001b[0m \u001b[0;34m\u001b[0m\u001b[0m\n\u001b[0;32m----> 4\u001b[0;31m \u001b[0mc\u001b[0m\u001b[0;34m.\u001b[0m\u001b[0mexecute\u001b[0m\u001b[0;34m(\u001b[0m\u001b[0;34m\"SELECT rowid, * FROM customers\"\u001b[0m\u001b[0;34m)\u001b[0m\u001b[0;34m\u001b[0m\u001b[0;34m\u001b[0m\u001b[0m\n\u001b[0m\u001b[1;32m      5\u001b[0m \u001b[0;32mfor\u001b[0m \u001b[0mentry\u001b[0m \u001b[0;32min\u001b[0m \u001b[0mc\u001b[0m\u001b[0;34m.\u001b[0m\u001b[0mfetchall\u001b[0m\u001b[0;34m(\u001b[0m\u001b[0;34m)\u001b[0m\u001b[0;34m:\u001b[0m\u001b[0;34m\u001b[0m\u001b[0;34m\u001b[0m\u001b[0m\n\u001b[1;32m      6\u001b[0m     \u001b[0mprint\u001b[0m\u001b[0;34m(\u001b[0m\u001b[0mentry\u001b[0m\u001b[0;34m)\u001b[0m\u001b[0;34m\u001b[0m\u001b[0;34m\u001b[0m\u001b[0m\n",
      "\u001b[0;31mOperationalError\u001b[0m: no such table: customers"
     ]
    }
   ],
   "source": [
    "# Deleting/Dropping the table\n",
    "c.execute(\"DROP TABLE customers\")\n",
    "\n",
    "c.execute(\"SELECT rowid, * FROM customers\")\n",
    "for entry in c.fetchall():\n",
    "    print(entry)"
   ]
  },
  {
   "cell_type": "code",
   "execution_count": 485,
   "metadata": {},
   "outputs": [
    {
     "name": "stdout",
     "output_type": "stream",
     "text": [
      "(1, 'John', 'Elder', 'jon@codemy.com')\n",
      "(2, 'Tim', 'Smith', 'tim@codemy.com')\n",
      "(3, 'Mary', 'Brown', 'mary@codemy.com')\n",
      "(4, 'Wes', 'Brow', 'wes@brown.com')\n",
      "(5, 'Steph', 'Kuewa', 'steph@keuwa.com')\n",
      "(6, 'Dan', 'Pas', 'dan@pas.com')\n",
      "(7, 'Lauren', 'Wilson', 'Lauren@wilson.com')\n",
      "(8, 'Hailey', 'Jones', 'hailey@jones.com')\n",
      "(9, 'Taylor', 'Miler', 'taylos@miler.com')\n"
     ]
    }
   ],
   "source": [
    "# Recreate the table\n",
    "c.execute(\"\"\"CREATE TABLE customers (first_name TEXT,\n",
    "                                     last_name TEXT,\n",
    "                                     email TEXT)\n",
    "          \"\"\")\n",
    "\n",
    "# Creating data\n",
    "many_customers = [('John', 'Elder', 'jon@codemy.com'),\n",
    "                  ('Tim', 'Smith', 'tim@codemy.com'),\n",
    "                  ('Mary', 'Brown', 'mary@codemy.com'),\n",
    "                  ('Wes', 'Brow', 'wes@brown.com'), \n",
    "                  ('Steph', 'Kuewa', 'steph@keuwa.com'), \n",
    "                  ('Dan', 'Pas', 'dan@pas.com'),\n",
    "                  ('Lauren', 'Wilson', 'Lauren@wilson.com'),\n",
    "                  ('Hailey', 'Jones', 'hailey@jones.com'),\n",
    "                  ('Taylor', 'Miler', 'taylos@miler.com')]\n",
    "\n",
    "c.executemany(\"INSERT INTO customers VALUES (?,?,?)\", many_customers)\n",
    "conn.commit()\n",
    "\n",
    "c.execute(\"SELECT rowid, * FROM customers\")\n",
    "for entry in c.fetchall():\n",
    "    print(entry)"
   ]
  },
  {
   "cell_type": "markdown",
   "metadata": {},
   "source": [
    "And last but not least..."
   ]
  },
  {
   "cell_type": "code",
   "execution_count": 486,
   "metadata": {},
   "outputs": [],
   "source": [
    "# Close our connection\n",
    "conn.close()"
   ]
  },
  {
   "cell_type": "markdown",
   "metadata": {},
   "source": [
    "## 4 Making use of functions"
   ]
  },
  {
   "cell_type": "code",
   "execution_count": 487,
   "metadata": {},
   "outputs": [],
   "source": [
    "# Show all records\n",
    "def show_all():\n",
    "    \n",
    "    # Connecting to the database and creating a cursor\n",
    "    conn = sqlite3.connect('customers_info.db')\n",
    "    c = conn.cursor()\n",
    "    \n",
    "    # Selecting and printing all records\n",
    "    c.execute(\"SELECT rowid, * FROM customers\")\n",
    "    for entry in c.fetchall():\n",
    "        print(entry)\n",
    "\n",
    "    # Closing the connection\n",
    "    conn.close()"
   ]
  },
  {
   "cell_type": "code",
   "execution_count": 488,
   "metadata": {},
   "outputs": [
    {
     "name": "stdout",
     "output_type": "stream",
     "text": [
      "(1, 'John', 'Elder', 'jon@codemy.com')\n",
      "(2, 'Tim', 'Smith', 'tim@codemy.com')\n",
      "(3, 'Mary', 'Brown', 'mary@codemy.com')\n",
      "(4, 'Wes', 'Brow', 'wes@brown.com')\n",
      "(5, 'Steph', 'Kuewa', 'steph@keuwa.com')\n",
      "(6, 'Dan', 'Pas', 'dan@pas.com')\n",
      "(7, 'Lauren', 'Wilson', 'Lauren@wilson.com')\n",
      "(8, 'Hailey', 'Jones', 'hailey@jones.com')\n",
      "(9, 'Taylor', 'Miler', 'taylos@miler.com')\n"
     ]
    }
   ],
   "source": [
    "show_all()"
   ]
  },
  {
   "cell_type": "code",
   "execution_count": 489,
   "metadata": {},
   "outputs": [],
   "source": [
    "# Add a new record to the database\n",
    "def add_one(first, last, email):\n",
    "\n",
    "    # Connecting to the database and creating a cursor\n",
    "    conn = sqlite3.connect('customers_info.db', timeout=10)\n",
    "    c = conn.cursor()\n",
    "    \n",
    "    # Adding the new record\n",
    "    c.execute(\"INSERT INTO customers VALUES (?,?,?)\", (first, last, email))\n",
    "    conn.commit()\n",
    "\n",
    "    # Closing the connection\n",
    "    conn.close()"
   ]
  },
  {
   "cell_type": "code",
   "execution_count": 490,
   "metadata": {},
   "outputs": [
    {
     "name": "stdout",
     "output_type": "stream",
     "text": [
      "(1, 'John', 'Elder', 'jon@codemy.com')\n",
      "(2, 'Tim', 'Smith', 'tim@codemy.com')\n",
      "(3, 'Mary', 'Brown', 'mary@codemy.com')\n",
      "(4, 'Wes', 'Brow', 'wes@brown.com')\n",
      "(5, 'Steph', 'Kuewa', 'steph@keuwa.com')\n",
      "(6, 'Dan', 'Pas', 'dan@pas.com')\n",
      "(7, 'Lauren', 'Wilson', 'Lauren@wilson.com')\n",
      "(8, 'Hailey', 'Jones', 'hailey@jones.com')\n",
      "(9, 'Taylor', 'Miler', 'taylos@miler.com')\n",
      "(10, 'Charly', 'Smith', 'charly@smith.com')\n"
     ]
    }
   ],
   "source": [
    "add_one('Charly', 'Smith', 'charly@smith.com')\n",
    "\n",
    "show_all()"
   ]
  },
  {
   "cell_type": "code",
   "execution_count": 491,
   "metadata": {},
   "outputs": [],
   "source": [
    "# Delete a record based on rowid\n",
    "def delete_one(id):\n",
    "\n",
    "    # Connecting to the database and creating a cursor\n",
    "    conn = sqlite3.connect('customers_info.db')\n",
    "    c = conn.cursor()\n",
    "    \n",
    "    # Adding the new record\n",
    "    c.execute(\"DELETE from customers WHERE rowid = (?)\", id)\n",
    "    conn.commit()\n",
    "\n",
    "    # Closing the connection\n",
    "    conn.close()"
   ]
  },
  {
   "cell_type": "code",
   "execution_count": 492,
   "metadata": {},
   "outputs": [
    {
     "name": "stdout",
     "output_type": "stream",
     "text": [
      "(1, 'John', 'Elder', 'jon@codemy.com')\n",
      "(2, 'Tim', 'Smith', 'tim@codemy.com')\n",
      "(3, 'Mary', 'Brown', 'mary@codemy.com')\n",
      "(4, 'Wes', 'Brow', 'wes@brown.com')\n",
      "(5, 'Steph', 'Kuewa', 'steph@keuwa.com')\n",
      "(7, 'Lauren', 'Wilson', 'Lauren@wilson.com')\n",
      "(8, 'Hailey', 'Jones', 'hailey@jones.com')\n",
      "(9, 'Taylor', 'Miler', 'taylos@miler.com')\n",
      "(10, 'Charly', 'Smith', 'charly@smith.com')\n"
     ]
    }
   ],
   "source": [
    "delete_one(\"6\")\n",
    "\n",
    "show_all()"
   ]
  },
  {
   "cell_type": "code",
   "execution_count": 493,
   "metadata": {},
   "outputs": [],
   "source": [
    "# Add many new records to the database\n",
    "def add_one(list):\n",
    "\n",
    "    # Connecting to the database and creating a cursor\n",
    "    conn = sqlite3.connect('customers_info.db', timeout=10) # time out to prevend the locking of the database\n",
    "    c = conn.cursor()\n",
    "    \n",
    "    # Adding the new record\n",
    "    c.executemany(\"INSERT INTO customers VALUES (?,?,?)\", list)\n",
    "    conn.commit()\n",
    "\n",
    "    # Closing the connection\n",
    "    conn.close()"
   ]
  },
  {
   "cell_type": "code",
   "execution_count": 494,
   "metadata": {},
   "outputs": [
    {
     "name": "stdout",
     "output_type": "stream",
     "text": [
      "(1, 'John', 'Elder', 'jon@codemy.com')\n",
      "(2, 'Tim', 'Smith', 'tim@codemy.com')\n",
      "(3, 'Mary', 'Brown', 'mary@codemy.com')\n",
      "(4, 'Wes', 'Brow', 'wes@brown.com')\n",
      "(5, 'Steph', 'Kuewa', 'steph@keuwa.com')\n",
      "(7, 'Lauren', 'Wilson', 'Lauren@wilson.com')\n",
      "(8, 'Hailey', 'Jones', 'hailey@jones.com')\n",
      "(9, 'Taylor', 'Miler', 'taylos@miler.com')\n",
      "(10, 'Charly', 'Smith', 'charly@smith.com')\n",
      "(11, 'John', 'Elder', 'jon@codemy.com')\n",
      "(12, 'Tim', 'Smith', 'tim@codemy.com')\n",
      "(13, 'Mary', 'Brown', 'mary@codemy.com')\n",
      "(14, 'Wes', 'Brow', 'wes@brown.com')\n",
      "(15, 'Steph', 'Kuewa', 'steph@keuwa.com')\n",
      "(16, 'Dan', 'Pas', 'dan@pas.com')\n",
      "(17, 'Lauren', 'Wilson', 'Lauren@wilson.com')\n",
      "(18, 'Hailey', 'Jones', 'hailey@jones.com')\n",
      "(19, 'Taylor', 'Miler', 'taylos@miler.com')\n"
     ]
    }
   ],
   "source": [
    "add_one(many_customers)\n",
    "\n",
    "show_all()"
   ]
  },
  {
   "cell_type": "code",
   "execution_count": 502,
   "metadata": {},
   "outputs": [],
   "source": [
    "# Add many new records to the database\n",
    "def email_lookup(email):\n",
    "\n",
    "    # Connecting to the database and creating a cursor\n",
    "    conn = sqlite3.connect('customers_info.db', timeout=10)\n",
    "    c = conn.cursor()\n",
    "    \n",
    "    # Selecting and printing all records\n",
    "    c.execute(\"SELECT * FROM customers WHERE email = (?)\", (email,))\n",
    "    for entry in c.fetchall():\n",
    "        print(entry)\n",
    "\n",
    "    # Closing the connection\n",
    "    conn.close()"
   ]
  },
  {
   "cell_type": "code",
   "execution_count": 504,
   "metadata": {},
   "outputs": [
    {
     "name": "stdout",
     "output_type": "stream",
     "text": [
      "('John', 'Elder', 'jon@codemy.com')\n",
      "('John', 'Elder', 'jon@codemy.com')\n"
     ]
    }
   ],
   "source": [
    "email_lookup(\"jon@codemy.com\")"
   ]
  }
 ],
 "metadata": {
  "kernelspec": {
   "display_name": "Python 3.8.5 ('base')",
   "language": "python",
   "name": "python3"
  },
  "language_info": {
   "codemirror_mode": {
    "name": "ipython",
    "version": 3
   },
   "file_extension": ".py",
   "mimetype": "text/x-python",
   "name": "python",
   "nbconvert_exporter": "python",
   "pygments_lexer": "ipython3",
   "version": "3.8.5"
  },
  "orig_nbformat": 4,
  "vscode": {
   "interpreter": {
    "hash": "19f22bb1eae879ba1b9aacb06d4244ca266488024785e697615810e3e6ddfb31"
   }
  }
 },
 "nbformat": 4,
 "nbformat_minor": 2
}
